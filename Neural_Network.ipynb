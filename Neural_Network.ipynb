
    {
      "cell_type": "code",
      "execution_count": 2,
      "metadata": {
        "id": "NaWkUSSCYxm2"
      },
      "outputs": [],
      "source": [
        "import numpy as np\n",
        "import pandas as pd\n",
        "from matplotlib import pyplot as plt\n",
        "import pylab as pl"
      ]
    },
    {
      "cell_type": "markdown",
      "metadata": {
        "id": "lZ_BBjoBgP4o"
      },
      "source": [
        "*The data is taken from MNIST Dataset*"
      ]
    },
    {
      "cell_type": "code",
      "execution_count": 3,
      "metadata": {
        "id": "ewlj8-J2XiEF"
      },
      "outputs": [],
      "source": [
        "# Loading the Data\n",
        "x_train = pd.read_csv(\"/content/drive/MyDrive/x_train.csv\")\n",
        "y_train = pd.read_csv(\"/content/drive/MyDrive/y_train.csv\")\n",
        "x_test = pd.read_csv(\"/content/drive/MyDrive/x_test.csv\")\n",
        "y_test = pd.read_csv(\"/content/drive/MyDrive/y_test.csv\")\n"
      ]
    },
    {
      "cell_type": "code",
      "execution_count": 4,
      "metadata": {
        "id": "_fwlKgf4Y467"
      },
      "outputs": [],
      "source": [
        "y1 = np.array(y_train)\n",
        "x1 = np.array(x_train)\n",
        "y2 = np.array(y_test)\n",
        "x2 = np.array(x_test)"
      ]
    },
    {
      "cell_type": "code",
      "execution_count": 5,
      "metadata": {
        "id": "gb9MgyK1ZV4A"
      },
      "outputs": [],
      "source": [
        "z = (x1.reshape(x1.shape[0],28,28))"
      ]
    },
    {
      "cell_type": "code",
      "execution_count": 6,
      "metadata": {
        "colab": {
          "base_uri": "https://localhost:8080/",
          "height": 482
        },
        "id": "r1fCGzgQZX0b",
        "outputId": "9c2276be-e702-4e84-9158-a47400b8ecbd"
      },
      "outputs": [
        {
          "output_type": "stream",
          "name": "stderr",
          "text": [
            "<ipython-input-6-c4c7e12e8504>:9: DeprecationWarning: Conversion of an array with ndim > 0 to a scalar is deprecated, and will error in future. Ensure you extract a single element from your array before performing this operation. (Deprecated NumPy 1.25.)\n",
            "  plt.title('%i' % label)\n"
          ]
        },
        {
          "output_type": "display_data",
          "data": {
            "text/plain": [
              "<Figure size 500x500 with 20 Axes>"
            ],
            "image/png": "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\n"
          },
          "metadata": {}
        }
      ],
      "source": [
        "images_and_labels=list(zip(z,y1))\n",
        "plt.figure(figsize=(5,5))\n",
        "for index,(image,label) in enumerate(images_and_labels[:20]):\n",
        "    plt.subplot(4,5,index+1)\n",
        "    plt.axis('off')\n",
        "    fi= np.flip(image, axis=1)\n",
        "    plt.imshow(np.rot90(fi,k=-3),cmap=plt.cm.gray_r,interpolation='nearest')\n",
        "\n",
        "    plt.title('%i' % label)"
      ]
    },
    {
      "cell_type": "code",
      "execution_count": 7,
      "metadata": {
        "id": "5I86Knx7ZZub"
      },
      "outputs": [],
      "source": [
        "X_train = x1.transpose()/255.0\n",
        "Y_train = y1.reshape(1,y1.shape[0])\n",
        "X_test = x2.transpose()/255.0\n",
        "Y_test = y2.reshape(1,y2.shape[0])"
      ]
    },
    {
      "cell_type": "code",
      "execution_count": 9,
      "metadata": {
        "id": "fpso7TpzZiXo"
      },
      "outputs": [],
      "source": [
        "class NeuralNetwork:\n",
        "  def init_params():\n",
        "    W1 = np.random.rand(26, 784) - 0.5\n",
        "    b1 = np.random.rand(26, 1) - 0.5\n",
        "    W2 = np.random.rand(10, 26) - 0.5\n",
        "    b2 = np.random.rand(10, 1) - 0.5\n",
        "    return W1, b1, W2, b2\n",
        "\n",
        "  def ReLU(Z):\n",
        "      return np.maximum(Z, 0)\n",
        "\n",
        "  def softmax(Z):\n",
        "      A = np.exp(Z) / sum(np.exp(Z))\n",
        "      return A\n",
        "\n",
        "  def forward_prop(W1, b1, W2, b2, X):\n",
        "      Z1 = W1@X + b1\n",
        "      A1 = NeuralNetwork.ReLU(Z1)\n",
        "      Z2 = W2@A1 + b2\n",
        "      A2 = NeuralNetwork.softmax(Z2)\n",
        "      return Z1, A1, Z2, A2\n",
        "\n",
        "  def ReLU_deriv(Z):\n",
        "      return Z > 0\n",
        "\n",
        "  def one_hot(Y):\n",
        "      one_hot_Y = np.zeros((Y.size, 10))\n",
        "      one_hot_Y[np.arange(Y.size), Y] = 1\n",
        "      one_hot_Y = one_hot_Y.T\n",
        "      return one_hot_Y\n",
        "\n",
        "  def backward_prop(Z1, A1, Z2, A2, W1, W2, X, Y):\n",
        "      m = X.shape[1]\n",
        "      one_hot_Y = NeuralNetwork.one_hot(Y)\n",
        "      dZ2 = A2 - one_hot_Y\n",
        "      dW2 = 1 / m * dZ2.dot(A1.T)\n",
        "      db2 = 1 / m * np.sum(dZ2)\n",
        "      dZ1 = W2.T.dot(dZ2) * NeuralNetwork.ReLU_deriv(Z1)\n",
        "      dW1 = 1 / m * dZ1.dot(X.T)\n",
        "      db1 = 1 / m * np.sum(dZ1)\n",
        "      return dW1, db1, dW2, db2\n",
        "\n",
        "  def update_params(W1, b1, W2, b2, dW1, db1, dW2, db2, alpha):\n",
        "      W1 = W1 - alpha * dW1\n",
        "      b1 = b1 - alpha * db1\n",
        "      W2 = W2 - alpha * dW2\n",
        "      b2 = b2 - alpha * db2\n",
        "      return W1, b1, W2, b2\n",
        "  def get_predictions(A2):\n",
        "      return np.argmax(A2, 0)\n",
        "\n",
        "  def get_accuracy_woprint(predictions, Y):\n",
        "\n",
        "      return np.sum(predictions == Y) / Y.size\n",
        "\n",
        "  def get_accuracy_wprint(predictions, Y):\n",
        "\n",
        "      print(\"Predicted :\" ,predictions)\n",
        "      print(\"Exact Data :\" ,Y)\n",
        "      print(\"\\n\")\n",
        "      return np.sum(predictions == Y) / Y.size\n",
        "\n",
        "  def accPlot(acc, iters):\n",
        "      plt.plot(np.arange(iters), acc)\n",
        "      plt.xlabel('Number of iterations')\n",
        "      plt.ylabel('Accuracy')\n",
        "      plt.show()\n",
        "\n",
        "  def gradient_descent(X, Y, alpha, iterations,accuracy):\n",
        "      W1, b1, W2, b2 = NeuralNetwork.init_params()\n",
        "      for i in range(iterations+1):\n",
        "          Z1, A1, Z2, A2 = NeuralNetwork.forward_prop(W1, b1, W2, b2, X)\n",
        "          dW1, db1, dW2, db2 = NeuralNetwork.backward_prop(Z1, A1, Z2, A2, W1,\n",
        "                                                           W2, X, Y)\n",
        "          W1, b1, W2, b2 = NeuralNetwork.update_params(W1, b1, W2, b2, dW1, db1,\n",
        "                                                       dW2, db2, alpha)\n",
        "          if i <iterations:\n",
        "              predictions = NeuralNetwork.get_predictions(A2)\n",
        "              acc=NeuralNetwork.get_accuracy_woprint(predictions, Y)\n",
        "              if i%100==0:\n",
        "                print(\"Iteration: \", i , \" Accuracy : \", acc*100,\"\\n\")\n",
        "              accuracy.append(acc)\n",
        "      return W1, b1, W2, b2\n",
        "\n",
        "  def test_net(W1,b1,W2,b2,X,y):\n",
        "    Z1, A1, Z2, A2 = NeuralNetwork.forward_prop(W1, b1, W2, b2, X)\n",
        "    predictions = NeuralNetwork.get_predictions(A2)\n",
        "    print(\"Accuracy of the model \",NeuralNetwork.get_accuracy_wprint(predictions\n",
        "                                                                  , y)*100,\"%\")\n",
        "\n",
        "\n"
      ]
    },
    {
      "cell_type": "code",
      "execution_count": 10,
      "metadata": {
        "colab": {
          "base_uri": "https://localhost:8080/"
        },
        "id": "TzgcCtFZamHM",
        "outputId": "14f0c40b-39f5-4d8a-a026-8128245e1b85"
      },
      "outputs": [
        {
          "output_type": "stream",
          "name": "stdout",
          "text": [
            "Iteration:  0  Accuracy :  11.214080938729248 \n",
            "\n",
            "Iteration:  100  Accuracy :  88.61257417161144 \n",
            "\n",
            "Iteration:  200  Accuracy :  92.89285952396827 \n",
            "\n",
            "Iteration:  300  Accuracy :  94.35295686379092 \n",
            "\n",
            "Iteration:  400  Accuracy :  95.07967197813187 \n",
            "\n",
            "Iteration:  500  Accuracy :  95.74638309220614 \n",
            "\n",
            "Iteration:  600  Accuracy :  96.26641776118407 \n",
            "\n",
            "Iteration:  700  Accuracy :  96.65311020734715 \n",
            "\n",
            "Iteration:  800  Accuracy :  97.019801320088 \n",
            "\n",
            "Iteration:  900  Accuracy :  97.17981198746584 \n",
            "\n"
          ]
        }
      ],
      "source": [
        "accuracy=[]\n",
        "W1, b1, W2, b2 = NeuralNetwork.gradient_descent(X_train, Y_train, 1, 1000,accuracy)"
      ]
    },
    {
      "cell_type": "code",
      "execution_count": 11,
      "metadata": {
        "id": "OHHtl4R6ulpC",
        "colab": {
          "base_uri": "https://localhost:8080/",
          "height": 449
        },
        "outputId": "a0b451a7-a877-4d43-da10-66bd491f23d1"
      },
      "outputs": [
        {
          "output_type": "display_data",
          "data": {
            "text/plain": [
              "<Figure size 640x480 with 1 Axes>"
            ],
            "image/png": "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\n"
          },
          "metadata": {}
        }
      ],
      "source": [
        "NeuralNetwork.accPlot(accuracy,1000)"
      ]
    },
    {
      "cell_type": "code",
      "execution_count": 12,
      "metadata": {
        "id": "qhrtuYBuapj0",
        "colab": {
          "base_uri": "https://localhost:8080/"
        },
        "outputId": "3705f701-236a-4aee-aa1f-721a02cce443"
      },
      "outputs": [
        {
          "output_type": "stream",
          "name": "stdout",
          "text": [
            "Predicted : [9 7 9 2 2 3 1 0 0 6 4 3 3 1 2 0 8 3 0 5 4 9 8 0 6 1 8 3 7 9 9 6 3 7 5 7 3\n",
            " 1 9 5 8 5 4 6 2 9 6 3 6 8 1 0 1 5 8 4 3 8 0 7 3 7 5 3 1 4 8 0 0 9 4 5 3 5\n",
            " 6 0 9 5 5 4 6 1 6 3 3 5 5 8 0 9 5 2 3 6 1 6 7 1 7 9 8 0 1 7 4 5 3 4 1 0 5\n",
            " 9 3 6 6 5 4 9 1 6 5 8 5 4 8 4 2 6 3 6 3 0 3 8 5 3 4 7 6 3 8 5 7 0 7 8 5 8\n",
            " 0 4 5 5 6 1 4 1 8 7 9 9 0 6 6 1 6 3 5 2 7 0 0 9 6 6 4 9 2 0 1 9 4 1 5 6 8\n",
            " 6 6 2 8 7 7 3 8 7 6 4 5 1 2 8 3 2 3 0 0 2 9 4 2 2 2 8 5 8 3 8 8 5 4 5 3 7\n",
            " 2 7 0 7 6 7 5 7 0 5 9 5 0 3 4 3 2 7 0 5 2 1 7 0 7 8 7 6 0 6 4 9 7 1 6 2 5\n",
            " 4 8 1 7 4 5 1 8 0 4 0 5 4 3 6 7 8 5 5 6 2 5 9 5 7 6 4 4 5 3 5 0 1 7 5 6 3\n",
            " 7 5 6 1 9 1 9 1 2 2 6 4 2 0 5 5 0 5 2 0 5 9 5 8 6 2 4 1 3 7 7 9 0 5 2 5 1\n",
            " 0 7 5 6 9 9 3 8 0 3 9 6 3 0 1 1 3 6 3 4 7 7 1 7 0 5 3 2 8 3 0 3 2 2 9 0 4\n",
            " 0 9 3 7 5 0 2 6 4 2 6 4 0 3 1 8 4 9 7 5 9 1 9 3 0 9 6 6 3 3 3 0 2 6 1 7 0\n",
            " 5 1 5 1 7 0 4 8 3 2 1 5 5 5 3 0 3 9 1 2 8 4 5 4 5 0 5 8 2 9 0 0 0 5 0 3 5\n",
            " 8 7 5 6 4 4 1 5 0 1 3 4 2 6 0 3 4 8 1 9 2 1 2 9 0 4 9 4 3 0 7 6 0 3 8 3 8\n",
            " 9 2 3 5 3 2 1 0 4 8 6 6 7 8 2 3 5 5 7 4 2 9 6 4 0 0 5 8 4 3 4 9 1 4 6 2 3\n",
            " 8 4 7 6 9 7 1 1 9 8 0 2 9 2 7 0 6 4 2 5 6 2 6 6 7 5 0 6 2 0 2 3 1 9 7 0 0\n",
            " 2 5 7 6 1 8 9 2 2 7 3 3 2 2 2 6 6 5 4 0 2 9 4 7 2 1 0 8 9 6 8 7 5 6 5 7 5\n",
            " 6 2 2 9 8 4 3 7 0 7 3 4 0 5 5 7 3 5 7 9 1 6 9 8 1 6 6 4 2 2 3 5 7 6 6 7 7\n",
            " 0 1 6 1 2 9 3 4 4 6 5 1 5 6 0 1 1 4 6 6 3 2 0 2 0 3 7 9 4 8 4 6 1 6 8 9 1\n",
            " 0 3 8 1 4 1 2 3 4 9 8 3 6 0 4 3 0 2 9 6 2 1 2 5 7 6 0 5 0 1 3 4 0 9 1 9 6\n",
            " 2 5 1 0 9 1 2 1 3 6 2 5 2 0 3 8 1 8 5 5 7 4 5 5 4 9 3 9 8 6 2 8 1 9 5 9 4\n",
            " 5 9 6 6 0 2 2 8 4 4 0 5 8 0 7 0 9 5 0 8 1 2 5 9 9 2 7 0 6 7 8 9 8 2 8 2 5\n",
            " 2 7 1 3 4 0 1 5 9 9 7 4 6 2 8 8 7 8 7 0 1 5]\n",
            "Exact Data : [[9 7 9 2 2 3 1 0 0 6 4 9 3 8 2 0 8 2 0 5 4 9 8 0 6 1 8 3 7 9 9 6 3 7 5 7\n",
            "  3 1 9 5 8 5 4 6 2 9 6 3 6 2 1 0 1 5 8 4 3 0 0 7 3 7 5 3 1 1 8 0 0 9 4 5\n",
            "  3 5 6 0 9 5 5 4 6 1 6 3 3 5 5 8 0 9 5 2 7 6 1 6 7 1 7 9 8 0 1 7 4 5 3 4\n",
            "  1 0 5 9 3 6 6 5 4 9 1 6 5 8 5 4 8 4 2 6 3 6 3 0 3 8 5 3 4 7 6 3 8 6 7 0\n",
            "  7 8 5 2 0 4 6 5 6 1 4 1 8 7 9 9 0 6 6 1 0 0 5 2 9 0 0 9 2 6 4 9 2 0 1 9\n",
            "  4 1 5 6 1 6 6 2 8 7 7 3 8 7 6 4 5 1 2 8 3 2 3 0 0 2 9 4 2 2 2 8 5 8 3 8\n",
            "  8 5 4 5 3 7 8 7 0 9 6 7 5 7 8 5 9 0 0 3 4 3 2 7 0 5 2 1 7 0 7 8 7 6 0 6\n",
            "  4 9 7 1 6 2 5 4 8 1 7 4 5 1 8 0 4 0 5 4 3 6 7 8 5 5 6 2 5 9 5 7 6 9 4 5\n",
            "  3 8 0 1 9 5 6 3 7 5 6 1 9 1 9 1 2 2 6 4 2 0 5 5 0 5 2 0 5 9 5 8 6 3 4 1\n",
            "  3 7 7 9 0 5 2 5 1 0 7 5 6 9 9 3 8 0 3 9 6 3 0 1 1 3 6 3 4 7 7 1 7 0 5 3\n",
            "  2 8 3 0 3 2 3 9 0 4 0 9 3 7 5 0 2 6 4 2 6 4 0 3 1 6 4 9 2 5 9 1 9 3 0 9\n",
            "  6 6 3 3 3 0 2 6 1 7 0 5 1 5 1 7 0 9 8 3 2 1 5 6 5 3 0 3 9 1 2 8 4 5 4 5\n",
            "  0 5 8 2 9 0 0 0 5 0 3 5 8 7 5 6 4 4 1 3 0 1 3 4 2 6 0 3 4 8 1 7 2 1 2 9\n",
            "  0 4 9 4 3 0 7 6 0 3 8 3 8 9 2 3 5 3 2 1 0 4 8 6 6 7 8 2 3 5 5 7 4 3 9 6\n",
            "  4 0 0 5 8 4 3 4 9 1 4 0 2 2 8 4 7 6 9 7 1 1 9 5 0 2 9 2 7 0 6 4 2 5 6 2\n",
            "  6 6 7 5 0 6 2 0 2 8 1 9 7 0 0 6 5 7 6 1 3 9 2 3 7 3 1 2 2 2 0 6 5 4 0 2\n",
            "  9 4 7 3 1 2 8 9 6 8 7 5 6 5 7 5 6 3 2 9 8 5 3 7 0 7 3 4 0 5 5 7 0 3 7 9\n",
            "  1 6 9 8 1 6 6 9 2 2 3 5 7 6 6 7 7 0 1 0 1 2 9 5 4 7 6 5 1 5 6 0 1 1 4 6\n",
            "  6 3 2 0 2 0 3 7 9 4 8 4 6 1 6 8 9 1 0 3 8 1 4 1 2 3 4 4 8 3 6 0 4 3 0 2\n",
            "  9 6 2 1 2 6 7 6 0 5 0 1 3 4 0 9 1 9 6 2 5 1 0 9 1 2 1 3 6 2 5 2 0 3 8 1\n",
            "  3 5 5 7 4 3 5 8 9 9 9 4 6 2 8 1 9 5 9 4 5 9 6 6 0 2 2 8 4 4 0 5 8 0 7 0\n",
            "  9 5 0 8 1 2 5 9 9 2 7 0 6 7 8 9 8 2 8 2 5 2 7 1 3 4 0 1 5 9 9 7 7 6 2 8\n",
            "  8 7 8 7 0 1 8]]\n",
            "\n",
            "\n",
            "Accuracy of the model  92.61576971214018 %\n"
          ]
        }
      ],
      "source": [
        "NeuralNetwork.test_net(W1, b1, W2, b2, X_test, Y_test)"
      ]
    },
    {
      "cell_type": "markdown",
      "metadata": {
        "id": "5W_2ToURgnbL"
      },
      "source": [
        "Accuracy of the model  92.49061326658324 %"
      ]
    }
  ],
  "metadata": {
    "colab": {
      "provenance": []
    },
    "kernelspec": {
      "display_name": "Python 3",
      "name": "python3"
    },
    "language_info": {
      "name": "python"
    }
  },
  "nbformat": 4,
  "nbformat_minor": 0
}
